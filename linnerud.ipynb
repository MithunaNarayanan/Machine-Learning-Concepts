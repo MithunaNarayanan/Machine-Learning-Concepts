{
  "nbformat": 4,
  "nbformat_minor": 0,
  "metadata": {
    "colab": {
      "name": "Untitled5.ipynb",
      "provenance": [],
      "include_colab_link": true
    },
    "kernelspec": {
      "name": "python3",
      "display_name": "Python 3"
    }
  },
  "cells": [
    {
      "cell_type": "markdown",
      "metadata": {
        "id": "view-in-github",
        "colab_type": "text"
      },
      "source": [
        "<a href=\"https://colab.research.google.com/github/MithunaNarayanan/Machine-Learning-Concepts/blob/master/linnerud.ipynb\" target=\"_parent\"><img src=\"https://colab.research.google.com/assets/colab-badge.svg\" alt=\"Open In Colab\"/></a>"
      ]
    },
    {
      "cell_type": "code",
      "metadata": {
        "id": "1RcAWwXh0rug",
        "colab_type": "code",
        "colab": {}
      },
      "source": [
        "from sklearn.datasets import load_linnerud"
      ],
      "execution_count": 0,
      "outputs": []
    },
    {
      "cell_type": "code",
      "metadata": {
        "id": "vY7-ukHv0s01",
        "colab_type": "code",
        "colab": {}
      },
      "source": [
        "data = load_linnerud()"
      ],
      "execution_count": 0,
      "outputs": []
    },
    {
      "cell_type": "code",
      "metadata": {
        "id": "JaV3tawC01wW",
        "colab_type": "code",
        "colab": {
          "base_uri": "https://localhost:8080/",
          "height": 54
        },
        "outputId": "f0cd30cc-28b7-4576-a8f0-4637653e0d83"
      },
      "source": [
        "data.DESCR"
      ],
      "execution_count": 6,
      "outputs": [
        {
          "output_type": "execute_result",
          "data": {
            "text/plain": [
              "'.. _linnerrud_dataset:\\n\\nLinnerrud dataset\\n-----------------\\n\\n**Data Set Characteristics:**\\n\\n    :Number of Instances: 20\\n    :Number of Attributes: 3\\n    :Missing Attribute Values: None\\n\\nThe Linnerud dataset constains two small dataset:\\n\\n- *physiological* - CSV containing 20 observations on 3 exercise variables:\\n   Weight, Waist and Pulse.\\n\\n- *exercise* - CSV containing 20 observations on 3 physiological variables:\\n   Chins, Situps and Jumps.\\n\\n.. topic:: References\\n\\n  * Tenenhaus, M. (1998). La regression PLS: theorie et pratique. Paris: Editions Technic.\\n'"
            ]
          },
          "metadata": {
            "tags": []
          },
          "execution_count": 6
        }
      ]
    },
    {
      "cell_type": "code",
      "metadata": {
        "id": "5Eet4JpQ0_aq",
        "colab_type": "code",
        "colab": {
          "base_uri": "https://localhost:8080/",
          "height": 357
        },
        "outputId": "9c16f74b-663b-4720-b3b9-1cea1ed3379d"
      },
      "source": [
        "data.target"
      ],
      "execution_count": 7,
      "outputs": [
        {
          "output_type": "execute_result",
          "data": {
            "text/plain": [
              "array([[191.,  36.,  50.],\n",
              "       [189.,  37.,  52.],\n",
              "       [193.,  38.,  58.],\n",
              "       [162.,  35.,  62.],\n",
              "       [189.,  35.,  46.],\n",
              "       [182.,  36.,  56.],\n",
              "       [211.,  38.,  56.],\n",
              "       [167.,  34.,  60.],\n",
              "       [176.,  31.,  74.],\n",
              "       [154.,  33.,  56.],\n",
              "       [169.,  34.,  50.],\n",
              "       [166.,  33.,  52.],\n",
              "       [154.,  34.,  64.],\n",
              "       [247.,  46.,  50.],\n",
              "       [193.,  36.,  46.],\n",
              "       [202.,  37.,  62.],\n",
              "       [176.,  37.,  54.],\n",
              "       [157.,  32.,  52.],\n",
              "       [156.,  33.,  54.],\n",
              "       [138.,  33.,  68.]])"
            ]
          },
          "metadata": {
            "tags": []
          },
          "execution_count": 7
        }
      ]
    },
    {
      "cell_type": "code",
      "metadata": {
        "id": "5aaeutYU1P1T",
        "colab_type": "code",
        "colab": {}
      },
      "source": [
        ""
      ],
      "execution_count": 0,
      "outputs": []
    }
  ]
}